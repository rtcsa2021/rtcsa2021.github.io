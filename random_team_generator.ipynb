{
 "cells": [
  {
   "cell_type": "code",
   "execution_count": 1,
   "metadata": {},
   "outputs": [
    {
     "name": "stdout",
     "output_type": "stream",
     "text": [
      "['JiaHao Ma, Yi Liang']\n",
      "['Hafiz Oyediran, Jorge A Perez']\n",
      "['Brandon Essler']\n",
      "['Lucas Asato, Yifan Shi']\n",
      "['Miti Mareddy, Madeline Baltzer']\n",
      "['Alex Hodges, Justin Robbins']\n",
      "['Ernesto Macias, Mohammad H. Al Huneidi']\n",
      "['Zach Hansen']\n"
     ]
    }
   ],
   "source": [
    "    import random\n",
    "    people = [\"Lucas Asato, Yifan Shi\", \"Miti Mareddy, Madeline Baltzer\", \"Ernesto Macias, Mohammad H. Al Huneidi\", \"Brandon Essler\", \"Zach Hansen\", \"JiaHao Ma, Yi Liang\", \"Alex Hodges, Justin Robbins\", \"Hafiz Oyediran, Jorge A Perez\"]\n",
    "    number_people = len(people)\n",
    "    number_of_teams = 8\n",
    "\n",
    "    while number_people > 0 and number_of_teams > 0:\n",
    "        team = random.sample(people, int(number_people/number_of_teams))\n",
    "        for x in team:\n",
    "            people.remove(x)\n",
    "            number_people -= int(number_people/number_of_teams)\n",
    "            number_of_teams -= 1\n",
    "        print(team)"
   ]
  },
  {
   "cell_type": "code",
   "execution_count": null,
   "metadata": {},
   "outputs": [],
   "source": []
  }
 ],
 "metadata": {
  "kernelspec": {
   "display_name": "Python 3",
   "language": "python",
   "name": "python3"
  },
  "language_info": {
   "codemirror_mode": {
    "name": "ipython",
    "version": 3
   },
   "file_extension": ".py",
   "mimetype": "text/x-python",
   "name": "python",
   "nbconvert_exporter": "python",
   "pygments_lexer": "ipython3",
   "version": "3.7.6"
  }
 },
 "nbformat": 4,
 "nbformat_minor": 4
}
